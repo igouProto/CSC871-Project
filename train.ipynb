{
 "cells": [
  {
   "cell_type": "code",
   "execution_count": 1,
   "metadata": {},
   "outputs": [],
   "source": [
    "import matplotlib.pyplot as plt\n",
    "import pandas as p\n",
    "import torch\n",
    "import numpy as np\n",
    "import torch.nn as nn\n",
    "import os\n",
    "import torchvision.transforms as transforms\n",
    "from PIL import Image\n",
    "from torch.utils.data import DataLoader, TensorDataset"
   ]
  },
  {
   "cell_type": "markdown",
   "metadata": {},
   "source": [
    "# Loading the data\n",
    "Load the datasets 'train images', 'train labels', 'test images', and 'test labels' that have been downloaded and saved in ./datasets. The dataset is a sub-dataset of MNIST including 28*28 greyscale images of handwritten digits"
   ]
  },
  {
   "cell_type": "code",
   "execution_count": 47,
   "metadata": {},
   "outputs": [],
   "source": [
    "def load_mnist_data(data_dir):\n",
    "    train_data_path = os.path.join(data_dir, 'train-images.idx3-ubyte')\n",
    "    train_labels_path = os.path.join(data_dir, 'train-labels.idx1-ubyte')\n",
    "    test_data_path = os.path.join(data_dir, 't10k-images.idx3-ubyte')\n",
    "    test_labels_path = os.path.join(data_dir, 't10k-labels.idx1-ubyte')\n",
    "\n",
    "\n",
    "    # Load training images\n",
    "    with open(train_data_path, 'rb') as f:\n",
    "        magic, num_images, rows, cols = np.fromfile(f, dtype=np.dtype('>i4'), count=4)\n",
    "        train_data = np.fromfile(f, dtype=np.uint8).reshape(num_images, rows, cols)\n",
    "\n",
    "    # Load training labels\n",
    "    with open(train_labels_path, 'rb') as f:\n",
    "        magic, num_labels = np.fromfile(f, dtype=np.dtype('>i4'), count=2)\n",
    "        train_labels = np.fromfile(f, dtype=np.uint8)\n",
    "\n",
    "    # Load test images\n",
    "    with open(test_data_path, 'rb') as f:\n",
    "        magic, num_images, rows, cols = np.fromfile(f, dtype=np.dtype('>i4'), count=4)\n",
    "        test_data = np.fromfile(f, dtype=np.uint8).reshape(num_images, rows, cols)\n",
    "\n",
    "    # Load test labels\n",
    "    with open(test_labels_path, 'rb') as f:\n",
    "        magic, num_labels = np.fromfile(f, dtype=np.dtype('>i4'), count=2)\n",
    "        test_labels = np.fromfile(f, dtype=np.uint8)\n",
    "\n",
    "    train_mean = np.mean(train_data / 255.)\n",
    "    print('train mean', train_mean)\n",
    "    train_std=np.std(train_data / 255.)\n",
    "    print('train std', train_std)\n",
    "\n",
    "    # Convert images to torch tensors and apply augmentation transforms\n",
    "    transform_train = transforms.Compose([\n",
    "        transforms.ToPILImage(),\n",
    "        #transforms.RandomCrop(28, padding=4),\n",
    "        #transforms.RandomHorizontalFlip(),\n",
    "        transforms.ToTensor(),\n",
    "        transforms.Normalize((0.1307,), (0.3081,))\n",
    "    ])\n",
    "    \n",
    "    # Normalizing the test images\n",
    "    transform_test = transforms.Compose([\n",
    "    transforms.ToPILImage(),\n",
    "    transforms.ToTensor(),\n",
    "    transforms.Normalize((0.1307,), (0.3081,)),\n",
    "    ])\n",
    "   \n",
    "    train_data = torch.stack([transform_train(img) for img in train_data])\n",
    "    test_data = torch.stack([transform_test(img) for img in test_data])\n",
    "\n",
    "    return train_data, train_labels, test_data, test_labels\n"
   ]
  },
  {
   "cell_type": "code",
   "execution_count": 48,
   "metadata": {},
   "outputs": [
    {
     "name": "stdout",
     "output_type": "stream",
     "text": [
      "train mean 0.1306604762738429\n",
      "train std 0.3081078038564622\n",
      "torch.Size([60000, 1, 28, 28]) (60000,) torch.Size([10000, 1, 28, 28]) (10000,)\n"
     ]
    }
   ],
   "source": [
    "dataset_path = './dataset'\n",
    "train_images, train_labels, test_images, test_labels = load_mnist_data(dataset_path)\n",
    "\n",
    "#print shapes of train_images, train_labels, test_images, test_labels\n",
    "print(train_images.shape, train_labels.shape, test_images.shape, test_labels.shape)\n",
    "\n",
    "# Create DataLoader objects for images and labels\n",
    "train_images_dataset = TensorDataset(train_images, torch.tensor(train_labels, dtype=torch.long))\n",
    "test_images_dataset = TensorDataset(test_images, torch.tensor(test_labels, dtype=torch.long))\n",
    "\n",
    "train_loader = DataLoader(train_images_dataset, batch_size=32, shuffle=True)\n",
    "test_loader = DataLoader(test_images_dataset, batch_size=32, shuffle=False)\n"
   ]
  },
  {
   "cell_type": "code",
   "execution_count": null,
   "metadata": {},
   "outputs": [],
   "source": [
    "# Any data processing we need to do here?"
   ]
  },
  {
   "cell_type": "code",
   "execution_count": 14,
   "metadata": {},
   "outputs": [],
   "source": [
    "# tweakable hyperparameters for the model\n",
    "# loss function and optimizer are placed in the training cell\n",
    "batch_size = 40\n",
    "num_of_epochs = 50\n",
    "learning_rate = 0.0001\n",
    "neurons_per_layer = 128 # for the hidden layers\n",
    "\n",
    "numbers_of_layers = 3 # num of hidden layers excl. the input and output layers\n",
    "activation_function = torch.nn.Sigmoid() # try other activation functions too!"
   ]
  },
  {
   "cell_type": "markdown",
   "metadata": {},
   "source": [
    "# model\n",
    "First model to try is a 3 layer neural network model with ReLU activation function. "
   ]
  },
  {
   "cell_type": "code",
   "execution_count": 15,
   "metadata": {},
   "outputs": [],
   "source": [
    "# the model\n",
    "class DigitClassifier(torch.nn.Module):\n",
    "    def __init__(self, num_features, num_classes):\n",
    "        super().__init__()\n",
    "        self.classifier = nn.Sequential(\n",
    "            nn.Linear(num_features, 128),\n",
    "            nn.ReLU(True),\n",
    "            nn.Linear(128, 64),\n",
    "            nn.ReLU(True),\n",
    "            nn.Linear(64, num_classes)\n",
    "        )\n",
    "        # input layer\n",
    "    ##    self.all_layers.add_module('input', torch.nn.Linear(num_features, neurons_per_layer))\n",
    "      ##  self.all_layers.add_module('input_activation', activation_function)\n",
    "\n",
    "        # hidden layers\n",
    "      ##  for i in range(numbers_of_layers):\n",
    "      ##      self.all_layers.add_module(f'hidden_{i}', torch.nn.Linear(neurons_per_layer, neurons_per_layer))\n",
    "      ##      self.all_layers.add_module(f'hidden_{i}_activation', activation_function)\n",
    "\n",
    "        # output layer\n",
    "     ##   self.all_layers.add_module('output', torch.nn.Linear(neurons_per_layer, num_classes))\n",
    "    \n",
    "\n",
    "    def forward(self, x):\n",
    "        # Flatten the input image\n",
    "        x = x.view(-1, 28*28)\n",
    "        x = self.classifier(x)    \n",
    "        return x\n",
    "    \n",
    "# the model\n",
    "#grey scale, num_channel=1\n",
    "model = DigitClassifier(28*28*1, num_classes)"
   ]
  },
  {
   "cell_type": "markdown",
   "metadata": {},
   "source": [
    "Second model to try is a mobilenetV2. MobileNetV2 is an improvement over the original MobileNet architecture, introduced in the paper \"MobileNetV2: Inverted Residuals and Linear Bottlenecks\" by Sandler et al. It introduces inverted residuals with linear bottlenecks and other architectural changes to improve the efficiency and performance of MobileNet."
   ]
  },
  {
   "cell_type": "code",
   "execution_count": 30,
   "metadata": {},
   "outputs": [
    {
     "ename": "TypeError",
     "evalue": "MobileNetV2.forward() got an unexpected keyword argument 'pretrained'",
     "output_type": "error",
     "traceback": [
      "\u001b[0;31m---------------------------------------------------------------------------\u001b[0m",
      "\u001b[0;31mTypeError\u001b[0m                                 Traceback (most recent call last)",
      "Cell \u001b[0;32mIn[30], line 17\u001b[0m\n\u001b[1;32m     14\u001b[0m     \u001b[38;5;28;01mdef\u001b[39;00m \u001b[38;5;21mforward\u001b[39m(\u001b[38;5;28mself\u001b[39m, x):\n\u001b[1;32m     15\u001b[0m         \u001b[38;5;28;01mreturn\u001b[39;00m \u001b[38;5;28mself\u001b[39m\u001b[38;5;241m.\u001b[39mmobilenet(x)\n\u001b[0;32m---> 17\u001b[0m model \u001b[38;5;241m=\u001b[39m ModifiedMobileNetV2(num_classes\u001b[38;5;241m=\u001b[39m\u001b[38;5;241m10\u001b[39m)\n",
      "Cell \u001b[0;32mIn[30], line 5\u001b[0m, in \u001b[0;36mModifiedMobileNetV2.__init__\u001b[0;34m(self, num_classes)\u001b[0m\n\u001b[1;32m      3\u001b[0m \u001b[38;5;28;01mdef\u001b[39;00m \u001b[38;5;21m__init__\u001b[39m(\u001b[38;5;28mself\u001b[39m, num_classes):\n\u001b[1;32m      4\u001b[0m     \u001b[38;5;28msuper\u001b[39m(ModifiedMobileNetV2, \u001b[38;5;28mself\u001b[39m)\u001b[38;5;241m.\u001b[39m\u001b[38;5;21m__init__\u001b[39m()\n\u001b[0;32m----> 5\u001b[0m     \u001b[38;5;28mself\u001b[39m\u001b[38;5;241m.\u001b[39mmobilenet \u001b[38;5;241m=\u001b[39m mobilenet_v2(pretrained\u001b[38;5;241m=\u001b[39m\u001b[38;5;28;01mFalse\u001b[39;00m)\n\u001b[1;32m      6\u001b[0m     \u001b[38;5;28mself\u001b[39m\u001b[38;5;241m.\u001b[39mmobilenet\u001b[38;5;241m.\u001b[39mfeatures[\u001b[38;5;241m0\u001b[39m][\u001b[38;5;241m0\u001b[39m] \u001b[38;5;241m=\u001b[39m nn\u001b[38;5;241m.\u001b[39mConv2d(\u001b[38;5;241m3\u001b[39m, \u001b[38;5;241m32\u001b[39m, kernel_size\u001b[38;5;241m=\u001b[39m\u001b[38;5;241m3\u001b[39m, stride\u001b[38;5;241m=\u001b[39m\u001b[38;5;241m2\u001b[39m, padding\u001b[38;5;241m=\u001b[39m\u001b[38;5;241m1\u001b[39m, bias\u001b[38;5;241m=\u001b[39m\u001b[38;5;28;01mFalse\u001b[39;00m)\n\u001b[1;32m      7\u001b[0m     \u001b[38;5;28mself\u001b[39m\u001b[38;5;241m.\u001b[39mresize \u001b[38;5;241m=\u001b[39m Resize((\u001b[38;5;241m224\u001b[39m, \u001b[38;5;241m224\u001b[39m)) \n",
      "File \u001b[0;32m~/anaconda3/lib/python3.11/site-packages/torch/nn/modules/module.py:1511\u001b[0m, in \u001b[0;36mModule._wrapped_call_impl\u001b[0;34m(self, *args, **kwargs)\u001b[0m\n\u001b[1;32m   1509\u001b[0m     \u001b[38;5;28;01mreturn\u001b[39;00m \u001b[38;5;28mself\u001b[39m\u001b[38;5;241m.\u001b[39m_compiled_call_impl(\u001b[38;5;241m*\u001b[39margs, \u001b[38;5;241m*\u001b[39m\u001b[38;5;241m*\u001b[39mkwargs)  \u001b[38;5;66;03m# type: ignore[misc]\u001b[39;00m\n\u001b[1;32m   1510\u001b[0m \u001b[38;5;28;01melse\u001b[39;00m:\n\u001b[0;32m-> 1511\u001b[0m     \u001b[38;5;28;01mreturn\u001b[39;00m \u001b[38;5;28mself\u001b[39m\u001b[38;5;241m.\u001b[39m_call_impl(\u001b[38;5;241m*\u001b[39margs, \u001b[38;5;241m*\u001b[39m\u001b[38;5;241m*\u001b[39mkwargs)\n",
      "File \u001b[0;32m~/anaconda3/lib/python3.11/site-packages/torch/nn/modules/module.py:1520\u001b[0m, in \u001b[0;36mModule._call_impl\u001b[0;34m(self, *args, **kwargs)\u001b[0m\n\u001b[1;32m   1515\u001b[0m \u001b[38;5;66;03m# If we don't have any hooks, we want to skip the rest of the logic in\u001b[39;00m\n\u001b[1;32m   1516\u001b[0m \u001b[38;5;66;03m# this function, and just call forward.\u001b[39;00m\n\u001b[1;32m   1517\u001b[0m \u001b[38;5;28;01mif\u001b[39;00m \u001b[38;5;129;01mnot\u001b[39;00m (\u001b[38;5;28mself\u001b[39m\u001b[38;5;241m.\u001b[39m_backward_hooks \u001b[38;5;129;01mor\u001b[39;00m \u001b[38;5;28mself\u001b[39m\u001b[38;5;241m.\u001b[39m_backward_pre_hooks \u001b[38;5;129;01mor\u001b[39;00m \u001b[38;5;28mself\u001b[39m\u001b[38;5;241m.\u001b[39m_forward_hooks \u001b[38;5;129;01mor\u001b[39;00m \u001b[38;5;28mself\u001b[39m\u001b[38;5;241m.\u001b[39m_forward_pre_hooks\n\u001b[1;32m   1518\u001b[0m         \u001b[38;5;129;01mor\u001b[39;00m _global_backward_pre_hooks \u001b[38;5;129;01mor\u001b[39;00m _global_backward_hooks\n\u001b[1;32m   1519\u001b[0m         \u001b[38;5;129;01mor\u001b[39;00m _global_forward_hooks \u001b[38;5;129;01mor\u001b[39;00m _global_forward_pre_hooks):\n\u001b[0;32m-> 1520\u001b[0m     \u001b[38;5;28;01mreturn\u001b[39;00m forward_call(\u001b[38;5;241m*\u001b[39margs, \u001b[38;5;241m*\u001b[39m\u001b[38;5;241m*\u001b[39mkwargs)\n\u001b[1;32m   1522\u001b[0m \u001b[38;5;28;01mtry\u001b[39;00m:\n\u001b[1;32m   1523\u001b[0m     result \u001b[38;5;241m=\u001b[39m \u001b[38;5;28;01mNone\u001b[39;00m\n",
      "\u001b[0;31mTypeError\u001b[0m: MobileNetV2.forward() got an unexpected keyword argument 'pretrained'"
     ]
    }
   ],
   "source": [
    "######ignore for now ###########\n",
    "import torchvision.models as models\n",
    "class ModifiedMobileNetV2(nn.Module):\n",
    "    def __init__(self, num_classes):\n",
    "        super(ModifiedMobileNetV2, self).__init__()\n",
    "        self.mobilenet = mobilenet_v2(pretrained=False)\n",
    "        self.mobilenet.features[0][0] = nn.Conv2d(3, 32, kernel_size=3, stride=2, padding=1, bias=False)\n",
    "        self.resize = Resize((224, 224)) \n",
    "        # Modify the classifier\n",
    "        self.mobilenet.classifier = nn.Sequential(\n",
    "            nn.Dropout(0.2),\n",
    "            nn.Linear(1280, num_classes),\n",
    "        )\n",
    "\n",
    "    def forward(self, x):\n",
    "        return self.mobilenet(x)\n",
    "    \n",
    "model = ModifiedMobileNetV2(num_classes=10) "
   ]
  },
  {
   "cell_type": "code",
   "execution_count": 5,
   "metadata": {},
   "outputs": [],
   "source": [
    "#third model to try\n",
    "#4 layers cnn with ReLU activation\n",
    "\n",
    "import torch.nn.functional as F\n",
    "\n",
    "class SimpleCNN(nn.Module):\n",
    "    def __init__(self, num_classes):\n",
    "        super(SimpleCNN, self).__init__()\n",
    "        self.conv1 = nn.Conv2d(1, 32, kernel_size=3, padding=1)\n",
    "        self.conv2 = nn.Conv2d(32, 64, kernel_size=3, padding=1)\n",
    "        self.pool = nn.MaxPool2d(2, 2)\n",
    "        self.fc1 = nn.Linear(64 * 7 * 7, 128)  \n",
    "        self.fc2 = nn.Linear(128, num_classes)\n",
    "\n",
    "    def forward(self, x):\n",
    "        x = self.pool(F.relu(self.conv1(x)))\n",
    "        x = self.pool(F.relu(self.conv2(x)))\n",
    "        x = torch.flatten(x, 1)  # Flatten the feature maps for the fully connected layers\n",
    "        x = F.relu(self.fc1(x))\n",
    "        x = self.fc2(x)\n",
    "        return x\n",
    "\n",
    "model = SimpleCNN(num_classes=10)"
   ]
  },
  {
   "cell_type": "code",
   "execution_count": 16,
   "metadata": {},
   "outputs": [
    {
     "name": "stdout",
     "output_type": "stream",
     "text": [
      "Epoch: 001/050 | Batch 1874/1875 | Train Loss: 2.31\n",
      "Epoch: 002/050 | Batch 1874/1875 | Train Loss: 2.29\n",
      "Epoch: 003/050 | Batch 1874/1875 | Train Loss: 2.29\n",
      "Epoch: 004/050 | Batch 1874/1875 | Train Loss: 2.30\n",
      "Epoch: 005/050 | Batch 1874/1875 | Train Loss: 2.27\n",
      "Epoch: 006/050 | Batch 1874/1875 | Train Loss: 2.23\n",
      "Epoch: 007/050 | Batch 1874/1875 | Train Loss: 2.19\n",
      "Epoch: 008/050 | Batch 1874/1875 | Train Loss: 2.13\n",
      "Epoch: 009/050 | Batch 1874/1875 | Train Loss: 2.16\n",
      "Epoch: 010/050 | Batch 1874/1875 | Train Loss: 2.20\n",
      "Epoch: 011/050 | Batch 1874/1875 | Train Loss: 2.10\n",
      "Epoch: 012/050 | Batch 1874/1875 | Train Loss: 2.09\n",
      "Epoch: 013/050 | Batch 1874/1875 | Train Loss: 2.11\n",
      "Epoch: 014/050 | Batch 1874/1875 | Train Loss: 2.08\n",
      "Epoch: 015/050 | Batch 1874/1875 | Train Loss: 1.98\n",
      "Epoch: 016/050 | Batch 1874/1875 | Train Loss: 1.83\n",
      "Epoch: 017/050 | Batch 1874/1875 | Train Loss: 1.86\n",
      "Epoch: 018/050 | Batch 1874/1875 | Train Loss: 1.92\n",
      "Epoch: 019/050 | Batch 1874/1875 | Train Loss: 1.83\n",
      "Epoch: 020/050 | Batch 1874/1875 | Train Loss: 2.02\n",
      "Epoch: 021/050 | Batch 1874/1875 | Train Loss: 1.90\n",
      "Epoch: 022/050 | Batch 1874/1875 | Train Loss: 1.91\n",
      "Epoch: 023/050 | Batch 1874/1875 | Train Loss: 1.75\n",
      "Epoch: 024/050 | Batch 1874/1875 | Train Loss: 1.93\n",
      "Epoch: 025/050 | Batch 1874/1875 | Train Loss: 1.88\n",
      "Epoch: 026/050 | Batch 1874/1875 | Train Loss: 1.65\n",
      "Epoch: 027/050 | Batch 1874/1875 | Train Loss: 1.63\n",
      "Epoch: 028/050 | Batch 1874/1875 | Train Loss: 1.53\n",
      "Epoch: 029/050 | Batch 1874/1875 | Train Loss: 1.76\n",
      "Epoch: 030/050 | Batch 1874/1875 | Train Loss: 1.80\n",
      "Epoch: 031/050 | Batch 1874/1875 | Train Loss: 1.55\n",
      "Epoch: 032/050 | Batch 1874/1875 | Train Loss: 1.71\n",
      "Epoch: 033/050 | Batch 1874/1875 | Train Loss: 1.55\n",
      "Epoch: 034/050 | Batch 1874/1875 | Train Loss: 1.60\n",
      "Epoch: 035/050 | Batch 1874/1875 | Train Loss: 1.86\n",
      "Epoch: 036/050 | Batch 1874/1875 | Train Loss: 1.87\n",
      "Epoch: 037/050 | Batch 1874/1875 | Train Loss: 1.61\n",
      "Epoch: 038/050 | Batch 1874/1875 | Train Loss: 1.42\n",
      "Epoch: 039/050 | Batch 1874/1875 | Train Loss: 1.42\n",
      "Epoch: 040/050 | Batch 1874/1875 | Train Loss: 1.49\n",
      "Epoch: 041/050 | Batch 1874/1875 | Train Loss: 1.49\n",
      "Epoch: 042/050 | Batch 1874/1875 | Train Loss: 1.67\n",
      "Epoch: 043/050 | Batch 1874/1875 | Train Loss: 1.76\n",
      "Epoch: 044/050 | Batch 1874/1875 | Train Loss: 1.59\n",
      "Epoch: 045/050 | Batch 1874/1875 | Train Loss: 1.39\n",
      "Epoch: 046/050 | Batch 1874/1875 | Train Loss: 1.26\n",
      "Epoch: 047/050 | Batch 1874/1875 | Train Loss: 1.08\n",
      "Epoch: 048/050 | Batch 1874/1875 | Train Loss: 1.30\n",
      "Epoch: 049/050 | Batch 1874/1875 | Train Loss: 1.64\n",
      "Epoch: 050/050 | Batch 1874/1875 | Train Loss: 1.55\n"
     ]
    }
   ],
   "source": [
    "# the training loop\n",
    "\n",
    "import torch.nn.functional as F\n",
    "torch.manual_seed(555)\n",
    "\n",
    "# dimension n of the n*n input MNIST image\n",
    "n = 28\n",
    "\n",
    "# number of classes (digits 0-9)\n",
    "num_classes = 10\n",
    "\n",
    "\n",
    "\n",
    "# loss and optimizer, try other combos too?\n",
    "loss_fn = torch.nn.CrossEntropyLoss()\n",
    "optimizer = torch.optim.SGD(model.parameters(), lr=learning_rate)\n",
    "#also try Adam\n",
    "\n",
    "# train!\n",
    "num_epochs = 50   #increase this to at least 50\n",
    "epoch_losses = [] # to plot the loss curve later\n",
    "\n",
    "for epoch in range(num_epochs):\n",
    "\n",
    "    model = model.train()\n",
    "\n",
    "    for batch_idx, (images, labels) in enumerate(train_loader):\n",
    "        #use this version for mobilenet\n",
    "        images_rgb = torch.cat((images, images, images), dim=1)\n",
    "        optimizer.zero_grad()\n",
    "        logits = model(images)\n",
    "        #print(\"Shape of target tensor:\", labels.shape)\n",
    "        #print(logits.shape)\n",
    "        loss = loss_fn(logits, labels) # Loss function\n",
    "        loss.backward()\n",
    "        optimizer.step()\n",
    "    \n",
    "    # logging + save the loss\n",
    "    print(f\"Epoch: {epoch+1:03d}/{num_epochs:03d}\" f\" | Batch {batch_idx:03d}/{len(train_loader):03d}\" f\" | Train Loss: {loss:.2f}\")\n",
    "    epoch_losses.append(loss)\n",
    "\n",
    "\n",
    "# save model after training\n",
    "torch.save(model.state_dict(), './model.pth')"
   ]
  },
  {
   "cell_type": "code",
   "execution_count": 17,
   "metadata": {},
   "outputs": [
    {
     "name": "stdout",
     "output_type": "stream",
     "text": [
      "[tensor(2.3097, grad_fn=<NllLossBackward0>), tensor(2.2924, grad_fn=<NllLossBackward0>), tensor(2.2859, grad_fn=<NllLossBackward0>), tensor(2.2956, grad_fn=<NllLossBackward0>), tensor(2.2749, grad_fn=<NllLossBackward0>), tensor(2.2335, grad_fn=<NllLossBackward0>), tensor(2.1945, grad_fn=<NllLossBackward0>), tensor(2.1283, grad_fn=<NllLossBackward0>), tensor(2.1579, grad_fn=<NllLossBackward0>), tensor(2.1962, grad_fn=<NllLossBackward0>), tensor(2.1047, grad_fn=<NllLossBackward0>), tensor(2.0938, grad_fn=<NllLossBackward0>), tensor(2.1147, grad_fn=<NllLossBackward0>), tensor(2.0775, grad_fn=<NllLossBackward0>), tensor(1.9798, grad_fn=<NllLossBackward0>), tensor(1.8296, grad_fn=<NllLossBackward0>), tensor(1.8567, grad_fn=<NllLossBackward0>), tensor(1.9156, grad_fn=<NllLossBackward0>), tensor(1.8269, grad_fn=<NllLossBackward0>), tensor(2.0194, grad_fn=<NllLossBackward0>), tensor(1.9030, grad_fn=<NllLossBackward0>), tensor(1.9084, grad_fn=<NllLossBackward0>), tensor(1.7451, grad_fn=<NllLossBackward0>), tensor(1.9349, grad_fn=<NllLossBackward0>), tensor(1.8815, grad_fn=<NllLossBackward0>), tensor(1.6498, grad_fn=<NllLossBackward0>), tensor(1.6296, grad_fn=<NllLossBackward0>), tensor(1.5337, grad_fn=<NllLossBackward0>), tensor(1.7559, grad_fn=<NllLossBackward0>), tensor(1.7955, grad_fn=<NllLossBackward0>), tensor(1.5486, grad_fn=<NllLossBackward0>), tensor(1.7128, grad_fn=<NllLossBackward0>), tensor(1.5455, grad_fn=<NllLossBackward0>), tensor(1.5964, grad_fn=<NllLossBackward0>), tensor(1.8572, grad_fn=<NllLossBackward0>), tensor(1.8681, grad_fn=<NllLossBackward0>), tensor(1.6110, grad_fn=<NllLossBackward0>), tensor(1.4177, grad_fn=<NllLossBackward0>), tensor(1.4186, grad_fn=<NllLossBackward0>), tensor(1.4944, grad_fn=<NllLossBackward0>), tensor(1.4918, grad_fn=<NllLossBackward0>), tensor(1.6697, grad_fn=<NllLossBackward0>), tensor(1.7634, grad_fn=<NllLossBackward0>), tensor(1.5869, grad_fn=<NllLossBackward0>), tensor(1.3859, grad_fn=<NllLossBackward0>), tensor(1.2618, grad_fn=<NllLossBackward0>), tensor(1.0757, grad_fn=<NllLossBackward0>), tensor(1.2986, grad_fn=<NllLossBackward0>), tensor(1.6356, grad_fn=<NllLossBackward0>), tensor(1.5453, grad_fn=<NllLossBackward0>)]\n"
     ]
    },
    {
     "data": {
      "text/plain": [
       "Text(0, 0.5, 'Training Loss')"
      ]
     },
     "execution_count": 17,
     "metadata": {},
     "output_type": "execute_result"
    },
    {
     "data": {
      "image/png": "[encoded data removed]",
      "text/plain": [
       "<Figure size 640x480 with 1 Axes>"
      ]
     },
     "metadata": {},
     "output_type": "display_data"
    }
   ],
   "source": [
    "print(epoch_losses)\n",
    "# training loss plot\n",
    "plt.plot([loss.detach().numpy() for loss in epoch_losses])\n",
    "plt.legend([\"Training Loss\"])\n",
    "plt.title(\"Training Loss vs. Number of Epoch\")\n",
    "plt.xlabel(\"Number of Epoch\")\n",
    "plt.ylabel(\"Training Loss\")"
   ]
  },
  {
   "cell_type": "code",
   "execution_count": 11,
   "metadata": {},
   "outputs": [
    {
     "ename": "ValueError",
     "evalue": "Expected input batch_size (32) to match target batch_size (16).",
     "output_type": "error",
     "traceback": [
      "\u001b[0;31m---------------------------------------------------------------------------\u001b[0m",
      "\u001b[0;31mValueError\u001b[0m                                Traceback (most recent call last)",
      "Cell \u001b[0;32mIn[11], line 7\u001b[0m\n\u001b[1;32m      5\u001b[0m \u001b[38;5;28;01mfor\u001b[39;00m batch_idx, (images, labels) \u001b[38;5;129;01min\u001b[39;00m \u001b[38;5;28menumerate\u001b[39m(test_loader):\n\u001b[1;32m      6\u001b[0m     out \u001b[38;5;241m=\u001b[39m model(images)\n\u001b[0;32m----> 7\u001b[0m     loss \u001b[38;5;241m=\u001b[39m \u001b[43mloss_fn\u001b[49m\u001b[43m(\u001b[49m\u001b[43mlogits\u001b[49m\u001b[43m,\u001b[49m\u001b[43m \u001b[49m\u001b[43mlabels\u001b[49m\u001b[43m)\u001b[49m\n\u001b[1;32m      8\u001b[0m     total_loss \u001b[38;5;241m+\u001b[39m\u001b[38;5;241m=\u001b[39m loss\u001b[38;5;241m.\u001b[39mitem()  \n\u001b[1;32m      9\u001b[0m     avg_loss \u001b[38;5;241m=\u001b[39m total_loss \u001b[38;5;241m/\u001b[39m \u001b[38;5;28mlen\u001b[39m(test_loader)\n",
      "File \u001b[0;32m~/Documents/__school/MS_Y2/Spring 24/CSC871/871env/lib/python3.11/site-packages/torch/nn/modules/module.py:1511\u001b[0m, in \u001b[0;36mModule._wrapped_call_impl\u001b[0;34m(self, *args, **kwargs)\u001b[0m\n\u001b[1;32m   1509\u001b[0m     \u001b[38;5;28;01mreturn\u001b[39;00m \u001b[38;5;28mself\u001b[39m\u001b[38;5;241m.\u001b[39m_compiled_call_impl(\u001b[38;5;241m*\u001b[39margs, \u001b[38;5;241m*\u001b[39m\u001b[38;5;241m*\u001b[39mkwargs)  \u001b[38;5;66;03m# type: ignore[misc]\u001b[39;00m\n\u001b[1;32m   1510\u001b[0m \u001b[38;5;28;01melse\u001b[39;00m:\n\u001b[0;32m-> 1511\u001b[0m     \u001b[38;5;28;01mreturn\u001b[39;00m \u001b[38;5;28;43mself\u001b[39;49m\u001b[38;5;241;43m.\u001b[39;49m\u001b[43m_call_impl\u001b[49m\u001b[43m(\u001b[49m\u001b[38;5;241;43m*\u001b[39;49m\u001b[43margs\u001b[49m\u001b[43m,\u001b[49m\u001b[43m \u001b[49m\u001b[38;5;241;43m*\u001b[39;49m\u001b[38;5;241;43m*\u001b[39;49m\u001b[43mkwargs\u001b[49m\u001b[43m)\u001b[49m\n",
      "File \u001b[0;32m~/Documents/__school/MS_Y2/Spring 24/CSC871/871env/lib/python3.11/site-packages/torch/nn/modules/module.py:1520\u001b[0m, in \u001b[0;36mModule._call_impl\u001b[0;34m(self, *args, **kwargs)\u001b[0m\n\u001b[1;32m   1515\u001b[0m \u001b[38;5;66;03m# If we don't have any hooks, we want to skip the rest of the logic in\u001b[39;00m\n\u001b[1;32m   1516\u001b[0m \u001b[38;5;66;03m# this function, and just call forward.\u001b[39;00m\n\u001b[1;32m   1517\u001b[0m \u001b[38;5;28;01mif\u001b[39;00m \u001b[38;5;129;01mnot\u001b[39;00m (\u001b[38;5;28mself\u001b[39m\u001b[38;5;241m.\u001b[39m_backward_hooks \u001b[38;5;129;01mor\u001b[39;00m \u001b[38;5;28mself\u001b[39m\u001b[38;5;241m.\u001b[39m_backward_pre_hooks \u001b[38;5;129;01mor\u001b[39;00m \u001b[38;5;28mself\u001b[39m\u001b[38;5;241m.\u001b[39m_forward_hooks \u001b[38;5;129;01mor\u001b[39;00m \u001b[38;5;28mself\u001b[39m\u001b[38;5;241m.\u001b[39m_forward_pre_hooks\n\u001b[1;32m   1518\u001b[0m         \u001b[38;5;129;01mor\u001b[39;00m _global_backward_pre_hooks \u001b[38;5;129;01mor\u001b[39;00m _global_backward_hooks\n\u001b[1;32m   1519\u001b[0m         \u001b[38;5;129;01mor\u001b[39;00m _global_forward_hooks \u001b[38;5;129;01mor\u001b[39;00m _global_forward_pre_hooks):\n\u001b[0;32m-> 1520\u001b[0m     \u001b[38;5;28;01mreturn\u001b[39;00m \u001b[43mforward_call\u001b[49m\u001b[43m(\u001b[49m\u001b[38;5;241;43m*\u001b[39;49m\u001b[43margs\u001b[49m\u001b[43m,\u001b[49m\u001b[43m \u001b[49m\u001b[38;5;241;43m*\u001b[39;49m\u001b[38;5;241;43m*\u001b[39;49m\u001b[43mkwargs\u001b[49m\u001b[43m)\u001b[49m\n\u001b[1;32m   1522\u001b[0m \u001b[38;5;28;01mtry\u001b[39;00m:\n\u001b[1;32m   1523\u001b[0m     result \u001b[38;5;241m=\u001b[39m \u001b[38;5;28;01mNone\u001b[39;00m\n",
      "File \u001b[0;32m~/Documents/__school/MS_Y2/Spring 24/CSC871/871env/lib/python3.11/site-packages/torch/nn/modules/loss.py:1179\u001b[0m, in \u001b[0;36mCrossEntropyLoss.forward\u001b[0;34m(self, input, target)\u001b[0m\n\u001b[1;32m   1178\u001b[0m \u001b[38;5;28;01mdef\u001b[39;00m \u001b[38;5;21mforward\u001b[39m(\u001b[38;5;28mself\u001b[39m, \u001b[38;5;28minput\u001b[39m: Tensor, target: Tensor) \u001b[38;5;241m-\u001b[39m\u001b[38;5;241m>\u001b[39m Tensor:\n\u001b[0;32m-> 1179\u001b[0m     \u001b[38;5;28;01mreturn\u001b[39;00m \u001b[43mF\u001b[49m\u001b[38;5;241;43m.\u001b[39;49m\u001b[43mcross_entropy\u001b[49m\u001b[43m(\u001b[49m\u001b[38;5;28;43minput\u001b[39;49m\u001b[43m,\u001b[49m\u001b[43m \u001b[49m\u001b[43mtarget\u001b[49m\u001b[43m,\u001b[49m\u001b[43m \u001b[49m\u001b[43mweight\u001b[49m\u001b[38;5;241;43m=\u001b[39;49m\u001b[38;5;28;43mself\u001b[39;49m\u001b[38;5;241;43m.\u001b[39;49m\u001b[43mweight\u001b[49m\u001b[43m,\u001b[49m\n\u001b[1;32m   1180\u001b[0m \u001b[43m                           \u001b[49m\u001b[43mignore_index\u001b[49m\u001b[38;5;241;43m=\u001b[39;49m\u001b[38;5;28;43mself\u001b[39;49m\u001b[38;5;241;43m.\u001b[39;49m\u001b[43mignore_index\u001b[49m\u001b[43m,\u001b[49m\u001b[43m \u001b[49m\u001b[43mreduction\u001b[49m\u001b[38;5;241;43m=\u001b[39;49m\u001b[38;5;28;43mself\u001b[39;49m\u001b[38;5;241;43m.\u001b[39;49m\u001b[43mreduction\u001b[49m\u001b[43m,\u001b[49m\n\u001b[1;32m   1181\u001b[0m \u001b[43m                           \u001b[49m\u001b[43mlabel_smoothing\u001b[49m\u001b[38;5;241;43m=\u001b[39;49m\u001b[38;5;28;43mself\u001b[39;49m\u001b[38;5;241;43m.\u001b[39;49m\u001b[43mlabel_smoothing\u001b[49m\u001b[43m)\u001b[49m\n",
      "File \u001b[0;32m~/Documents/__school/MS_Y2/Spring 24/CSC871/871env/lib/python3.11/site-packages/torch/nn/functional.py:3059\u001b[0m, in \u001b[0;36mcross_entropy\u001b[0;34m(input, target, weight, size_average, ignore_index, reduce, reduction, label_smoothing)\u001b[0m\n\u001b[1;32m   3057\u001b[0m \u001b[38;5;28;01mif\u001b[39;00m size_average \u001b[38;5;129;01mis\u001b[39;00m \u001b[38;5;129;01mnot\u001b[39;00m \u001b[38;5;28;01mNone\u001b[39;00m \u001b[38;5;129;01mor\u001b[39;00m reduce \u001b[38;5;129;01mis\u001b[39;00m \u001b[38;5;129;01mnot\u001b[39;00m \u001b[38;5;28;01mNone\u001b[39;00m:\n\u001b[1;32m   3058\u001b[0m     reduction \u001b[38;5;241m=\u001b[39m _Reduction\u001b[38;5;241m.\u001b[39mlegacy_get_string(size_average, reduce)\n\u001b[0;32m-> 3059\u001b[0m \u001b[38;5;28;01mreturn\u001b[39;00m \u001b[43mtorch\u001b[49m\u001b[38;5;241;43m.\u001b[39;49m\u001b[43m_C\u001b[49m\u001b[38;5;241;43m.\u001b[39;49m\u001b[43m_nn\u001b[49m\u001b[38;5;241;43m.\u001b[39;49m\u001b[43mcross_entropy_loss\u001b[49m\u001b[43m(\u001b[49m\u001b[38;5;28;43minput\u001b[39;49m\u001b[43m,\u001b[49m\u001b[43m \u001b[49m\u001b[43mtarget\u001b[49m\u001b[43m,\u001b[49m\u001b[43m \u001b[49m\u001b[43mweight\u001b[49m\u001b[43m,\u001b[49m\u001b[43m \u001b[49m\u001b[43m_Reduction\u001b[49m\u001b[38;5;241;43m.\u001b[39;49m\u001b[43mget_enum\u001b[49m\u001b[43m(\u001b[49m\u001b[43mreduction\u001b[49m\u001b[43m)\u001b[49m\u001b[43m,\u001b[49m\u001b[43m \u001b[49m\u001b[43mignore_index\u001b[49m\u001b[43m,\u001b[49m\u001b[43m \u001b[49m\u001b[43mlabel_smoothing\u001b[49m\u001b[43m)\u001b[49m\n",
      "\u001b[0;31mValueError\u001b[0m: Expected input batch_size (32) to match target batch_size (16)."
     ]
    }
   ],
   "source": [
    "val_loss = []\n",
    "total_loss = 0\n",
    "for epochs in range(num_epochs):\n",
    "    model.eval()\n",
    "    for batch_idx, (images, labels) in enumerate(test_loader):\n",
    "        out = model(images)\n",
    "        loss = loss_fn(logits, labels)\n",
    "        total_loss += loss.item()  \n",
    "        avg_loss = total_loss / len(test_loader)\n",
    "    # logging + save the loss\n",
    "    print(f\"Epoch: {epoch+1:03d}/{num_epochs:03d}\" f\" | Batch {batch_idx:03d}/{len(test_loader):03d}\" f\" | Validation Loss: {loss:.2f}\")\n",
    "    val_loss.append(avg_loss)\n",
    "    \n",
    "    \n",
    "#add some more measurements here: accuracy, confusion matrix, ..."
   ]
  },
  {
   "cell_type": "code",
   "execution_count": null,
   "metadata": {},
   "outputs": [],
   "source": []
  }
 ],
 "metadata": {
  "kernelspec": {
   "display_name": "Python 3 (ipykernel)",
   "language": "python",
   "name": "python3"
  },
  "language_info": {
   "codemirror_mode": {
    "name": "ipython",
    "version": 3
   },
   "file_extension": ".py",
   "mimetype": "text/x-python",
   "name": "python",
   "nbconvert_exporter": "python",
   "pygments_lexer": "ipython3",
   "version": "3.11.5"
  }
 },
 "nbformat": 4,
 "nbformat_minor": 2
}

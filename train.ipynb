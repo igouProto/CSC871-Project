{
 "cells": [
  {
   "cell_type": "code",
   "execution_count": 8,
   "metadata": {},
   "outputs": [],
   "source": [
    "import matplotlib.pyplot as plt\n",
    "import pandas as p\n",
    "import torch\n",
    "import numpy as np\n",
    "import torch.nn as nn\n",
    "import os\n",
    "import torchvision.transforms as transforms\n",
    "from PIL import Image\n",
    "from torch.utils.data import DataLoader, TensorDataset"
   ]
  },
  {
   "cell_type": "markdown",
   "metadata": {},
   "source": [
    "# Loading the data\n",
    "Load the datasets 'train images', 'train labels', 'test images', and 'test labels' that have been downloaded and saved in ./datasets. The dataset is a sub-dataset of MNIST including 28*28 greyscale images of handwritten digits"
   ]
  },
  {
   "cell_type": "code",
   "execution_count": 2,
   "metadata": {},
   "outputs": [],
   "source": [
    "def load_mnist_data(data_dir):\n",
    "    train_data_path = os.path.join(data_dir, 'train-images.idx3-ubyte')\n",
    "    train_labels_path = os.path.join(data_dir, 'train-labels.idx1-ubyte')\n",
    "    test_data_path = os.path.join(data_dir, 't10k-images.idx3-ubyte')\n",
    "    test_labels_path = os.path.join(data_dir, 't10k-labels.idx1-ubyte')\n",
    "\n",
    "\n",
    "    # Load training images\n",
    "    with open(train_data_path, 'rb') as f:\n",
    "        magic, num_images, rows, cols = np.fromfile(f, dtype=np.dtype('>i4'), count=4)\n",
    "        train_data = np.fromfile(f, dtype=np.uint8).reshape(num_images, rows, cols)\n",
    "\n",
    "    # Load training labels\n",
    "    with open(train_labels_path, 'rb') as f:\n",
    "        magic, num_labels = np.fromfile(f, dtype=np.dtype('>i4'), count=2)\n",
    "        train_labels = np.fromfile(f, dtype=np.uint8)\n",
    "\n",
    "    # Load test images\n",
    "    with open(test_data_path, 'rb') as f:\n",
    "        magic, num_images, rows, cols = np.fromfile(f, dtype=np.dtype('>i4'), count=4)\n",
    "        test_data = np.fromfile(f, dtype=np.uint8).reshape(num_images, rows, cols)\n",
    "\n",
    "    # Load test labels\n",
    "    with open(test_labels_path, 'rb') as f:\n",
    "        magic, num_labels = np.fromfile(f, dtype=np.dtype('>i4'), count=2)\n",
    "        test_labels = np.fromfile(f, dtype=np.uint8)\n",
    "\n",
    "    train_mean = np.mean(train_data / 255.)\n",
    "    print('train mean', train_mean)\n",
    "    train_std=np.std(train_data / 255.)\n",
    "    print('train std', train_std)\n",
    "\n",
    "    # Convert images to torch tensors and apply augmentation transforms\n",
    "    transform_train = transforms.Compose([\n",
    "        transforms.ToPILImage(),\n",
    "        #transforms.RandomCrop(28, padding=4),\n",
    "        #transforms.RandomHorizontalFlip(),\n",
    "        transforms.ToTensor(),\n",
    "        transforms.Normalize((0.1307,), (0.3081,))\n",
    "    ])\n",
    "    \n",
    "    # Normalizing the test images\n",
    "    transform_test = transforms.Compose([\n",
    "    transforms.ToPILImage(),\n",
    "    transforms.ToTensor(),\n",
    "    transforms.Normalize((0.1307,), (0.3081,)),\n",
    "    ])\n",
    "   \n",
    "    train_data = torch.stack([transform_train(img) for img in train_data])\n",
    "    test_data = torch.stack([transform_test(img) for img in test_data])\n",
    "\n",
    "    return train_data, train_labels, test_data, test_labels\n"
   ]
  },
  {
   "cell_type": "code",
   "execution_count": 3,
   "metadata": {},
   "outputs": [
    {
     "name": "stdout",
     "output_type": "stream",
     "text": [
      "train mean 0.1306604762738429\n",
      "train std 0.3081078038564622\n",
      "torch.Size([60000, 1, 28, 28]) (60000,) torch.Size([10000, 1, 28, 28]) (10000,)\n"
     ]
    }
   ],
   "source": [
    "dataset_path = './dataset'\n",
    "train_images, train_labels, test_images, test_labels = load_mnist_data(dataset_path)\n",
    "\n",
    "#print shapes of train_images, train_labels, test_images, test_labels\n",
    "print(train_images.shape, train_labels.shape, test_images.shape, test_labels.shape)\n",
    "\n",
    "# Create DataLoader objects for images and labels\n",
    "train_images_dataset = TensorDataset(train_images, torch.tensor(train_labels, dtype=torch.long))\n",
    "test_images_dataset = TensorDataset(test_images, torch.tensor(test_labels, dtype=torch.long))\n",
    "\n",
    "train_loader = DataLoader(train_images_dataset, batch_size=32, shuffle=True)\n",
    "test_loader = DataLoader(test_images_dataset, batch_size=32, shuffle=False)\n"
   ]
  },
  {
   "cell_type": "code",
   "execution_count": null,
   "metadata": {},
   "outputs": [],
   "source": [
    "# Any data processing we need to do here?"
   ]
  },
  {
   "cell_type": "code",
   "execution_count": 4,
   "metadata": {},
   "outputs": [],
   "source": [
    "# tweakable hyperparameters for the model\n",
    "# loss function and optimizer are placed in the training cell\n",
    "batch_size = 64\n",
    "num_of_epochs = 50\n",
    "learning_rate = 0.00001\n",
    "neurons_per_layer = 128 # for the hidden layers\n",
    "\n",
    "numbers_of_layers = 3 # num of hidden layers excl. the input and output layers\n",
    "activation_function = torch.nn.Sigmoid() # try other activation functions too!"
   ]
  },
  {
   "cell_type": "markdown",
   "metadata": {},
   "source": [
    "# model\n",
    "First model to try is a 3 layer neural network model with ReLU activation function. "
   ]
  },
  {
   "cell_type": "code",
   "execution_count": 9,
   "metadata": {},
   "outputs": [],
   "source": [
    "# the model\n",
    "class DigitClassifier(torch.nn.Module):\n",
    "    def __init__(self, num_features, num_classes):\n",
    "        super().__init__()\n",
    "        self.classifier = nn.Sequential(\n",
    "            nn.Linear(num_features, 128),\n",
    "            nn.ReLU(True),\n",
    "            nn.Linear(128, 64),\n",
    "            nn.ReLU(True),\n",
    "            nn.Linear(64, num_classes),\n",
    "            nn.Softmax()\n",
    "        )\n",
    "        # input layer\n",
    "    ##    self.all_layers.add_module('input', torch.nn.Linear(num_features, neurons_per_layer))\n",
    "      ##  self.all_layers.add_module('input_activation', activation_function)\n",
    "\n",
    "        # hidden layers\n",
    "      ##  for i in range(numbers_of_layers):\n",
    "      ##      self.all_layers.add_module(f'hidden_{i}', torch.nn.Linear(neurons_per_layer, neurons_per_layer))\n",
    "      ##      self.all_layers.add_module(f'hidden_{i}_activation', activation_function)\n",
    "\n",
    "        # output layer\n",
    "     ##   self.all_layers.add_module('output', torch.nn.Linear(neurons_per_layer, num_classes))\n",
    "    \n",
    "\n",
    "    def forward(self, x):\n",
    "        # Flatten the input image\n",
    "        x = x.view(-1, 28*28)\n",
    "        x = self.classifier(x)    \n",
    "        return x\n",
    "    \n",
    "# the model\n",
    "#grey scale, num_channel=1\n",
    "num_classes = 10\n",
    "model = DigitClassifier(28*28*1, num_classes)"
   ]
  },
  {
   "cell_type": "markdown",
   "metadata": {},
   "source": [
    "Second model to try is a mobilenetV2. MobileNetV2 is an improvement over the original MobileNet architecture, introduced in the paper \"MobileNetV2: Inverted Residuals and Linear Bottlenecks\" by Sandler et al. It introduces inverted residuals with linear bottlenecks and other architectural changes to improve the efficiency and performance of MobileNet."
   ]
  },
  {
   "cell_type": "code",
   "execution_count": null,
   "metadata": {},
   "outputs": [],
   "source": [
    "######ignore for now ###########\n",
    "import torchvision.models as models\n",
    "class ModifiedMobileNetV2(nn.Module):\n",
    "    def __init__(self, num_classes):\n",
    "        super(ModifiedMobileNetV2, self).__init__()\n",
    "        self.mobilenet = mobilenet_v2(pretrained=False)\n",
    "        self.mobilenet.features[0][0] = nn.Conv2d(3, 32, kernel_size=3, stride=2, padding=1, bias=False)\n",
    "        self.resize = Resize((224, 224)) \n",
    "        # Modify the classifier\n",
    "        self.mobilenet.classifier = nn.Sequential(\n",
    "            nn.Dropout(0.2),\n",
    "            nn.Linear(1280, num_classes),\n",
    "        )\n",
    "\n",
    "    def forward(self, x):\n",
    "        return self.mobilenet(x)\n",
    "    \n",
    "model = ModifiedMobileNetV2(num_classes=10) "
   ]
  },
  {
   "cell_type": "code",
   "execution_count": null,
   "metadata": {},
   "outputs": [],
   "source": [
    "#third model to try\n",
    "#4 layers cnn with ReLU activation\n",
    "\n",
    "import torch.nn.functional as F\n",
    "\n",
    "class SimpleCNN(nn.Module):\n",
    "    def __init__(self, num_classes):\n",
    "        super(SimpleCNN, self).__init__()\n",
    "        self.conv1 = nn.Conv2d(1, 32, kernel_size=3, padding=1)\n",
    "        self.conv2 = nn.Conv2d(32, 64, kernel_size=3, padding=1)\n",
    "        self.pool = nn.MaxPool2d(2, 2)\n",
    "        self.fc1 = nn.Linear(64 * 7 * 7, 128)  \n",
    "        self.fc2 = nn.Linear(128, num_classes)\n",
    "\n",
    "    def forward(self, x):\n",
    "        x = self.pool(F.relu(self.conv1(x)))\n",
    "        x = self.pool(F.relu(self.conv2(x)))\n",
    "        x = torch.flatten(x, 1)  # Flatten the feature maps for the fully connected layers\n",
    "        x = F.relu(self.fc1(x))\n",
    "        x = self.fc2(x)\n",
    "        return x\n",
    "\n",
    "model = SimpleCNN(num_classes=10)"
   ]
  },
  {
   "cell_type": "code",
   "execution_count": 10,
   "metadata": {},
   "outputs": [
    {
     "name": "stderr",
     "output_type": "stream",
     "text": [
      "/Users/rimokawamoto/Documents/__school/MS_Y2/Spring 24/CSC871/871env/lib/python3.11/site-packages/torch/nn/modules/module.py:1511: UserWarning: Implicit dimension choice for softmax has been deprecated. Change the call to include dim=X as an argument.\n",
      "  return self._call_impl(*args, **kwargs)\n"
     ]
    },
    {
     "name": "stdout",
     "output_type": "stream",
     "text": [
      "Epoch: 001/100 | Batch 1874/1875 | Train Loss: 1.90\n",
      "Epoch: 002/100 | Batch 1874/1875 | Train Loss: 1.63\n",
      "Epoch: 003/100 | Batch 1874/1875 | Train Loss: 1.63\n",
      "Epoch: 004/100 | Batch 1874/1875 | Train Loss: 1.72\n",
      "Epoch: 005/100 | Batch 1874/1875 | Train Loss: 1.64\n",
      "Epoch: 006/100 | Batch 1874/1875 | Train Loss: 1.56\n",
      "Epoch: 007/100 | Batch 1874/1875 | Train Loss: 1.64\n",
      "Epoch: 008/100 | Batch 1874/1875 | Train Loss: 1.51\n",
      "Epoch: 009/100 | Batch 1874/1875 | Train Loss: 1.49\n",
      "Epoch: 010/100 | Batch 1874/1875 | Train Loss: 1.69\n",
      "Epoch: 011/100 | Batch 1874/1875 | Train Loss: 1.55\n",
      "Epoch: 012/100 | Batch 1874/1875 | Train Loss: 1.59\n",
      "Epoch: 013/100 | Batch 1874/1875 | Train Loss: 1.48\n",
      "Epoch: 014/100 | Batch 1874/1875 | Train Loss: 1.50\n",
      "Epoch: 015/100 | Batch 1874/1875 | Train Loss: 1.51\n",
      "Epoch: 016/100 | Batch 1874/1875 | Train Loss: 1.48\n",
      "Epoch: 017/100 | Batch 1874/1875 | Train Loss: 1.51\n",
      "Epoch: 018/100 | Batch 1874/1875 | Train Loss: 1.54\n",
      "Epoch: 019/100 | Batch 1874/1875 | Train Loss: 1.56\n",
      "Epoch: 020/100 | Batch 1874/1875 | Train Loss: 1.53\n",
      "Epoch: 021/100 | Batch 1874/1875 | Train Loss: 1.51\n",
      "Epoch: 022/100 | Batch 1874/1875 | Train Loss: 1.54\n",
      "Epoch: 023/100 | Batch 1874/1875 | Train Loss: 1.55\n",
      "Epoch: 024/100 | Batch 1874/1875 | Train Loss: 1.53\n",
      "Epoch: 025/100 | Batch 1874/1875 | Train Loss: 1.52\n",
      "Epoch: 026/100 | Batch 1874/1875 | Train Loss: 1.53\n",
      "Epoch: 027/100 | Batch 1874/1875 | Train Loss: 1.52\n",
      "Epoch: 028/100 | Batch 1874/1875 | Train Loss: 1.52\n",
      "Epoch: 029/100 | Batch 1874/1875 | Train Loss: 1.52\n",
      "Epoch: 030/100 | Batch 1874/1875 | Train Loss: 1.58\n",
      "Epoch: 031/100 | Batch 1874/1875 | Train Loss: 1.59\n",
      "Epoch: 032/100 | Batch 1874/1875 | Train Loss: 1.53\n",
      "Epoch: 033/100 | Batch 1874/1875 | Train Loss: 1.50\n",
      "Epoch: 034/100 | Batch 1874/1875 | Train Loss: 1.55\n",
      "Epoch: 035/100 | Batch 1874/1875 | Train Loss: 1.51\n",
      "Epoch: 036/100 | Batch 1874/1875 | Train Loss: 1.57\n",
      "Epoch: 037/100 | Batch 1874/1875 | Train Loss: 1.55\n",
      "Epoch: 038/100 | Batch 1874/1875 | Train Loss: 1.53\n",
      "Epoch: 039/100 | Batch 1874/1875 | Train Loss: 1.49\n",
      "Epoch: 040/100 | Batch 1874/1875 | Train Loss: 1.56\n",
      "Epoch: 041/100 | Batch 1874/1875 | Train Loss: 1.55\n",
      "Epoch: 042/100 | Batch 1874/1875 | Train Loss: 1.54\n",
      "Epoch: 043/100 | Batch 1874/1875 | Train Loss: 1.53\n",
      "Epoch: 044/100 | Batch 1874/1875 | Train Loss: 1.57\n",
      "Epoch: 045/100 | Batch 1874/1875 | Train Loss: 1.53\n",
      "Epoch: 046/100 | Batch 1874/1875 | Train Loss: 1.51\n",
      "Epoch: 047/100 | Batch 1874/1875 | Train Loss: 1.47\n",
      "Epoch: 048/100 | Batch 1874/1875 | Train Loss: 1.50\n",
      "Epoch: 049/100 | Batch 1874/1875 | Train Loss: 1.50\n",
      "Epoch: 050/100 | Batch 1874/1875 | Train Loss: 1.58\n",
      "Epoch: 051/100 | Batch 1874/1875 | Train Loss: 1.49\n",
      "Epoch: 052/100 | Batch 1874/1875 | Train Loss: 1.53\n",
      "Epoch: 053/100 | Batch 1874/1875 | Train Loss: 1.51\n",
      "Epoch: 054/100 | Batch 1874/1875 | Train Loss: 1.52\n",
      "Epoch: 055/100 | Batch 1874/1875 | Train Loss: 1.46\n",
      "Epoch: 056/100 | Batch 1874/1875 | Train Loss: 1.52\n",
      "Epoch: 057/100 | Batch 1874/1875 | Train Loss: 1.56\n",
      "Epoch: 058/100 | Batch 1874/1875 | Train Loss: 1.49\n",
      "Epoch: 059/100 | Batch 1874/1875 | Train Loss: 1.53\n",
      "Epoch: 060/100 | Batch 1874/1875 | Train Loss: 1.48\n",
      "Epoch: 061/100 | Batch 1874/1875 | Train Loss: 1.51\n",
      "Epoch: 062/100 | Batch 1874/1875 | Train Loss: 1.50\n",
      "Epoch: 063/100 | Batch 1874/1875 | Train Loss: 1.47\n",
      "Epoch: 064/100 | Batch 1874/1875 | Train Loss: 1.48\n",
      "Epoch: 065/100 | Batch 1874/1875 | Train Loss: 1.54\n",
      "Epoch: 066/100 | Batch 1874/1875 | Train Loss: 1.54\n",
      "Epoch: 067/100 | Batch 1874/1875 | Train Loss: 1.50\n",
      "Epoch: 068/100 | Batch 1874/1875 | Train Loss: 1.53\n",
      "Epoch: 069/100 | Batch 1874/1875 | Train Loss: 1.59\n",
      "Epoch: 070/100 | Batch 1874/1875 | Train Loss: 1.55\n",
      "Epoch: 071/100 | Batch 1874/1875 | Train Loss: 1.54\n",
      "Epoch: 072/100 | Batch 1874/1875 | Train Loss: 1.50\n",
      "Epoch: 073/100 | Batch 1874/1875 | Train Loss: 1.47\n",
      "Epoch: 074/100 | Batch 1874/1875 | Train Loss: 1.53\n",
      "Epoch: 075/100 | Batch 1874/1875 | Train Loss: 1.52\n",
      "Epoch: 076/100 | Batch 1874/1875 | Train Loss: 1.50\n",
      "Epoch: 077/100 | Batch 1874/1875 | Train Loss: 1.47\n",
      "Epoch: 078/100 | Batch 1874/1875 | Train Loss: 1.47\n",
      "Epoch: 079/100 | Batch 1874/1875 | Train Loss: 1.53\n",
      "Epoch: 080/100 | Batch 1874/1875 | Train Loss: 1.51\n",
      "Epoch: 081/100 | Batch 1874/1875 | Train Loss: 1.54\n",
      "Epoch: 082/100 | Batch 1874/1875 | Train Loss: 1.53\n",
      "Epoch: 083/100 | Batch 1874/1875 | Train Loss: 1.48\n",
      "Epoch: 084/100 | Batch 1874/1875 | Train Loss: 1.48\n",
      "Epoch: 085/100 | Batch 1874/1875 | Train Loss: 1.52\n",
      "Epoch: 086/100 | Batch 1874/1875 | Train Loss: 1.57\n",
      "Epoch: 087/100 | Batch 1874/1875 | Train Loss: 1.51\n",
      "Epoch: 088/100 | Batch 1874/1875 | Train Loss: 1.48\n",
      "Epoch: 089/100 | Batch 1874/1875 | Train Loss: 1.50\n",
      "Epoch: 090/100 | Batch 1874/1875 | Train Loss: 1.51\n",
      "Epoch: 091/100 | Batch 1874/1875 | Train Loss: 1.55\n",
      "Epoch: 092/100 | Batch 1874/1875 | Train Loss: 1.50\n",
      "Epoch: 093/100 | Batch 1874/1875 | Train Loss: 1.50\n",
      "Epoch: 094/100 | Batch 1874/1875 | Train Loss: 1.57\n",
      "Epoch: 095/100 | Batch 1874/1875 | Train Loss: 1.53\n",
      "Epoch: 096/100 | Batch 1874/1875 | Train Loss: 1.47\n",
      "Epoch: 097/100 | Batch 1874/1875 | Train Loss: 1.46\n",
      "Epoch: 098/100 | Batch 1874/1875 | Train Loss: 1.47\n",
      "Epoch: 099/100 | Batch 1874/1875 | Train Loss: 1.46\n",
      "Epoch: 100/100 | Batch 1874/1875 | Train Loss: 1.46\n"
     ]
    }
   ],
   "source": [
    "# the training loop\n",
    "\n",
    "import torch.nn.functional as F\n",
    "torch.manual_seed(555)\n",
    "\n",
    "# dimension n of the n*n input MNIST image\n",
    "n = 28\n",
    "\n",
    "# number of classes (digits 0-9)\n",
    "num_classes = 10\n",
    "\n",
    "# loss and optimizer, try other combos too?\n",
    "loss_fn = torch.nn.CrossEntropyLoss()\n",
    "# optimizer = torch.optim.SGD(model.parameters(), lr=learning_rate)\n",
    "# also try Adam\n",
    "optimizer = torch.optim.Adam(model.parameters(), lr=learning_rate)\n",
    "\n",
    "# train!\n",
    "num_epochs = 100   #increase this to at least 50\n",
    "epoch_losses = [] # to plot the loss curve later\n",
    "\n",
    "for epoch in range(num_epochs):\n",
    "\n",
    "    model = model.train()\n",
    "\n",
    "    for batch_idx, (images, labels) in enumerate(train_loader):\n",
    "        #use this version for mobilenet\n",
    "        images_rgb = torch.cat((images, images, images), dim=1)\n",
    "        optimizer.zero_grad()\n",
    "        logits = model(images)\n",
    "        #print(\"Shape of target tensor:\", labels.shape)\n",
    "        #print(logits.shape)\n",
    "        loss = loss_fn(logits, labels) # Loss function\n",
    "        loss.backward()\n",
    "        optimizer.step()\n",
    "    \n",
    "    # logging + save the loss\n",
    "    print(f\"Epoch: {epoch+1:03d}/{num_epochs:03d}\" f\" | Batch {batch_idx:03d}/{len(train_loader):03d}\" f\" | Train Loss: {loss:.2f}\")\n",
    "    epoch_losses.append(loss)\n",
    "\n",
    "\n",
    "# save model after training\n",
    "torch.save(model.state_dict(), './model_nn_0430_adam.pth')"
   ]
  },
  {
   "cell_type": "code",
   "execution_count": 11,
   "metadata": {},
   "outputs": [
    {
     "name": "stdout",
     "output_type": "stream",
     "text": [
      "[tensor(1.9044, grad_fn=<NllLossBackward0>), tensor(1.6327, grad_fn=<NllLossBackward0>), tensor(1.6302, grad_fn=<NllLossBackward0>), tensor(1.7184, grad_fn=<NllLossBackward0>), tensor(1.6390, grad_fn=<NllLossBackward0>), tensor(1.5621, grad_fn=<NllLossBackward0>), tensor(1.6367, grad_fn=<NllLossBackward0>), tensor(1.5090, grad_fn=<NllLossBackward0>), tensor(1.4943, grad_fn=<NllLossBackward0>), tensor(1.6947, grad_fn=<NllLossBackward0>), tensor(1.5463, grad_fn=<NllLossBackward0>), tensor(1.5929, grad_fn=<NllLossBackward0>), tensor(1.4770, grad_fn=<NllLossBackward0>), tensor(1.4979, grad_fn=<NllLossBackward0>), tensor(1.5135, grad_fn=<NllLossBackward0>), tensor(1.4847, grad_fn=<NllLossBackward0>), tensor(1.5149, grad_fn=<NllLossBackward0>), tensor(1.5365, grad_fn=<NllLossBackward0>), tensor(1.5598, grad_fn=<NllLossBackward0>), tensor(1.5274, grad_fn=<NllLossBackward0>), tensor(1.5066, grad_fn=<NllLossBackward0>), tensor(1.5371, grad_fn=<NllLossBackward0>), tensor(1.5509, grad_fn=<NllLossBackward0>), tensor(1.5347, grad_fn=<NllLossBackward0>), tensor(1.5237, grad_fn=<NllLossBackward0>), tensor(1.5262, grad_fn=<NllLossBackward0>), tensor(1.5165, grad_fn=<NllLossBackward0>), tensor(1.5203, grad_fn=<NllLossBackward0>), tensor(1.5180, grad_fn=<NllLossBackward0>), tensor(1.5840, grad_fn=<NllLossBackward0>), tensor(1.5857, grad_fn=<NllLossBackward0>), tensor(1.5329, grad_fn=<NllLossBackward0>), tensor(1.5043, grad_fn=<NllLossBackward0>), tensor(1.5500, grad_fn=<NllLossBackward0>), tensor(1.5069, grad_fn=<NllLossBackward0>), tensor(1.5689, grad_fn=<NllLossBackward0>), tensor(1.5502, grad_fn=<NllLossBackward0>), tensor(1.5283, grad_fn=<NllLossBackward0>), tensor(1.4925, grad_fn=<NllLossBackward0>), tensor(1.5631, grad_fn=<NllLossBackward0>), tensor(1.5503, grad_fn=<NllLossBackward0>), tensor(1.5440, grad_fn=<NllLossBackward0>), tensor(1.5294, grad_fn=<NllLossBackward0>), tensor(1.5748, grad_fn=<NllLossBackward0>), tensor(1.5268, grad_fn=<NllLossBackward0>), tensor(1.5090, grad_fn=<NllLossBackward0>), tensor(1.4671, grad_fn=<NllLossBackward0>), tensor(1.4978, grad_fn=<NllLossBackward0>), tensor(1.5012, grad_fn=<NllLossBackward0>), tensor(1.5804, grad_fn=<NllLossBackward0>), tensor(1.4944, grad_fn=<NllLossBackward0>), tensor(1.5333, grad_fn=<NllLossBackward0>), tensor(1.5089, grad_fn=<NllLossBackward0>), tensor(1.5197, grad_fn=<NllLossBackward0>), tensor(1.4642, grad_fn=<NllLossBackward0>), tensor(1.5219, grad_fn=<NllLossBackward0>), tensor(1.5601, grad_fn=<NllLossBackward0>), tensor(1.4942, grad_fn=<NllLossBackward0>), tensor(1.5329, grad_fn=<NllLossBackward0>), tensor(1.4797, grad_fn=<NllLossBackward0>), tensor(1.5089, grad_fn=<NllLossBackward0>), tensor(1.4979, grad_fn=<NllLossBackward0>), tensor(1.4675, grad_fn=<NllLossBackward0>), tensor(1.4841, grad_fn=<NllLossBackward0>), tensor(1.5370, grad_fn=<NllLossBackward0>), tensor(1.5386, grad_fn=<NllLossBackward0>), tensor(1.5033, grad_fn=<NllLossBackward0>), tensor(1.5323, grad_fn=<NllLossBackward0>), tensor(1.5851, grad_fn=<NllLossBackward0>), tensor(1.5477, grad_fn=<NllLossBackward0>), tensor(1.5365, grad_fn=<NllLossBackward0>), tensor(1.4958, grad_fn=<NllLossBackward0>), tensor(1.4656, grad_fn=<NllLossBackward0>), tensor(1.5277, grad_fn=<NllLossBackward0>), tensor(1.5233, grad_fn=<NllLossBackward0>), tensor(1.4986, grad_fn=<NllLossBackward0>), tensor(1.4667, grad_fn=<NllLossBackward0>), tensor(1.4694, grad_fn=<NllLossBackward0>), tensor(1.5258, grad_fn=<NllLossBackward0>), tensor(1.5094, grad_fn=<NllLossBackward0>), tensor(1.5408, grad_fn=<NllLossBackward0>), tensor(1.5346, grad_fn=<NllLossBackward0>), tensor(1.4760, grad_fn=<NllLossBackward0>), tensor(1.4751, grad_fn=<NllLossBackward0>), tensor(1.5240, grad_fn=<NllLossBackward0>), tensor(1.5684, grad_fn=<NllLossBackward0>), tensor(1.5065, grad_fn=<NllLossBackward0>), tensor(1.4783, grad_fn=<NllLossBackward0>), tensor(1.5032, grad_fn=<NllLossBackward0>), tensor(1.5096, grad_fn=<NllLossBackward0>), tensor(1.5536, grad_fn=<NllLossBackward0>), tensor(1.4991, grad_fn=<NllLossBackward0>), tensor(1.5037, grad_fn=<NllLossBackward0>), tensor(1.5651, grad_fn=<NllLossBackward0>), tensor(1.5302, grad_fn=<NllLossBackward0>), tensor(1.4705, grad_fn=<NllLossBackward0>), tensor(1.4623, grad_fn=<NllLossBackward0>), tensor(1.4655, grad_fn=<NllLossBackward0>), tensor(1.4635, grad_fn=<NllLossBackward0>), tensor(1.4634, grad_fn=<NllLossBackward0>)]\n"
     ]
    },
    {
     "data": {
      "text/plain": [
       "Text(0, 0.5, 'Training Loss')"
      ]
     },
     "execution_count": 11,
     "metadata": {},
     "output_type": "execute_result"
    },
    {
     "data": {
      "image/png": "[encoded data removed]",
      "text/plain": [
       "<Figure size 640x480 with 1 Axes>"
      ]
     },
     "metadata": {},
     "output_type": "display_data"
    }
   ],
   "source": [
    "print(epoch_losses)\n",
    "# training loss plot\n",
    "plt.plot([loss.detach().numpy() for loss in epoch_losses])\n",
    "plt.legend([\"Training Loss\"])\n",
    "plt.title(\"Training Loss vs. Number of Epoch\")\n",
    "plt.xlabel(\"Number of Epoch\")\n",
    "plt.ylabel(\"Training Loss\")"
   ]
  },
  {
   "cell_type": "code",
   "execution_count": null,
   "metadata": {},
   "outputs": [],
   "source": [
    "val_loss = []\n",
    "total_loss = 0\n",
    "for epochs in range(num_epochs):\n",
    "    model.eval()\n",
    "    for batch_idx, (images, labels) in enumerate(test_loader):\n",
    "        out = model(images)\n",
    "        loss = loss_fn(logits, labels)\n",
    "        total_loss += loss.item()  \n",
    "        avg_loss = total_loss / len(test_loader)\n",
    "    # logging + save the loss\n",
    "    print(f\"Epoch: {epoch+1:03d}/{num_epochs:03d}\" f\" | Batch {batch_idx:03d}/{len(test_loader):03d}\" f\" | Validation Loss: {loss:.2f}\")\n",
    "    val_loss.append(avg_loss)\n",
    "    \n",
    "    \n",
    "#add some more measurements here: accuracy, confusion matrix, ..."
   ]
  },
  {
   "cell_type": "code",
   "execution_count": null,
   "metadata": {},
   "outputs": [],
   "source": []
  }
 ],
 "metadata": {
  "kernelspec": {
   "display_name": "Python 3 (ipykernel)",
   "language": "python",
   "name": "python3"
  },
  "language_info": {
   "codemirror_mode": {
    "name": "ipython",
    "version": 3
   },
   "file_extension": ".py",
   "mimetype": "text/x-python",
   "name": "python",
   "nbconvert_exporter": "python",
   "pygments_lexer": "ipython3",
   "version": "3.11.5"
  }
 },
 "nbformat": 4,
 "nbformat_minor": 2
}

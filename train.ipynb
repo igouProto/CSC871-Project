{
 "cells": [
  {
   "cell_type": "code",
   "execution_count": 11,
   "metadata": {},
   "outputs": [],
   "source": [
    "import matplotlib.pyplot as plt\n",
    "import pandas as p\n",
    "import torch\n",
    "import numpy as np"
   ]
  },
  {
   "cell_type": "code",
   "execution_count": 12,
   "metadata": {},
   "outputs": [
    {
     "name": "stdout",
     "output_type": "stream",
     "text": [
      "(60000, 28, 28) (60000,) (10000, 28, 28) (10000,)\n"
     ]
    }
   ],
   "source": [
    "%run ./digits.py\n",
    "# print(train_images, train_labels, test_images, test_labels)"
   ]
  },
  {
   "cell_type": "code",
   "execution_count": 13,
   "metadata": {},
   "outputs": [
    {
     "name": "stdout",
     "output_type": "stream",
     "text": [
      "torch.Size([60000, 28, 28]) torch.Size([60000]) torch.Size([10000, 28, 28]) torch.Size([10000])\n"
     ]
    }
   ],
   "source": [
    "# convert to tensors TODO: validate whether this is the right way to do this\n",
    "train_images = torch.tensor(train_images)\n",
    "train_labels = torch.tensor(train_labels)\n",
    "test_images = torch.tensor(test_images)\n",
    "test_labels = torch.tensor(test_labels)\n",
    "\n",
    "# show data shapes\n",
    "print(train_images.shape, train_labels.shape, test_images.shape, test_labels.shape)"
   ]
  },
  {
   "cell_type": "code",
   "execution_count": null,
   "metadata": {},
   "outputs": [],
   "source": [
    "# Any data processing we need to do here?"
   ]
  },
  {
   "cell_type": "code",
   "execution_count": null,
   "metadata": {},
   "outputs": [],
   "source": [
    "# tweakable hyperparameters for the model\n",
    "# loss function and optimizer are placed in the training cell\n",
    "batch_size = 25\n",
    "num_of_epochs = 300\n",
    "learning_rate = 0.005\n",
    "neurons_per_layer = 128 # for the hidden layers\n",
    "\n",
    "numbers_of_layers = 3 # num of hidden layers excl. the input and output layers\n",
    "activation_function = torch.nn.Sigmoid() # try other activation functions too!"
   ]
  },
  {
   "cell_type": "code",
   "execution_count": 14,
   "metadata": {},
   "outputs": [],
   "source": [
    "# the model\n",
    "class DigitClassifier(torch.nn.Module):\n",
    "    def __init__(self, num_features, num_classes):\n",
    "        super().__init__()\n",
    "        \n",
    "        self.all_layers = torch.nn.Sequential()\n",
    "\n",
    "        # input layer\n",
    "        self.all_layers.add_module('input', torch.nn.Linear(num_features, neurons_per_layer))\n",
    "        self.all_layers.add_module('input_activation', activation_function)\n",
    "\n",
    "        # hidden layers\n",
    "        for i in range(numbers_of_layers):\n",
    "            self.all_layers.add_module(f'hidden_{i}', torch.nn.Linear(neurons_per_layer, neurons_per_layer))\n",
    "            self.all_layers.add_module(f'hidden_{i}_activation', activation_function)\n",
    "\n",
    "        # output layer\n",
    "        self.all_layers.add_module('output', torch.nn.Linear(neurons_per_layer, num_classes))\n",
    "        self.all_layers.add_module('output_activation', torch.nn.Softmax(dim=1))\n",
    "\n",
    "    def forward(self, x):\n",
    "        return self.all_layers(x)        "
   ]
  },
  {
   "cell_type": "code",
   "execution_count": null,
   "metadata": {},
   "outputs": [],
   "source": [
    "# Data loader\n",
    "from torch.utils.data import Dataset, DataLoader\n",
    "\n",
    "#TODO: implement our dataloader, the commented lines are suggested by Copilot\n",
    "class DigitsDataset(Dataset):\n",
    "    def __init__(self, images, labels):\n",
    "        pass\n",
    "        # self.images = images\n",
    "        # self.labels = labels\n",
    "    \n",
    "    def __len__(self):\n",
    "        pass\n",
    "        # return len(self.images)\n",
    "    \n",
    "    def __getitem__(self, idx):\n",
    "        pass\n",
    "        # return self.images[idx], self.labels[idx]\n",
    "    \n",
    "train_dataset = DigitsDataset(train_images, train_labels)\n",
    "train_loader = DataLoader(train_dataset, batch_size=batch_size, shuffle=True)"
   ]
  },
  {
   "cell_type": "code",
   "execution_count": null,
   "metadata": {},
   "outputs": [],
   "source": [
    "# the training loop\n",
    "\n",
    "import torch.nn.functional as F\n",
    "torch.manual_seed(555)\n",
    "\n",
    "# dimension n of the n*n input picture\n",
    "n = 28\n",
    "\n",
    "# number of classes (digits 0-9)\n",
    "num_classes = 10\n",
    "\n",
    "# the model\n",
    "model = DigitClassifier(n*n, num_classes)\n",
    "\n",
    "# loss and optimizer, try other combos too?\n",
    "loss_fn = torch.nn.CrossEntropyLoss()\n",
    "optimizer = torch.optim.SGD(model.parameters(), lr=learning_rate)\n",
    "\n",
    "# train!\n",
    "num_epochs = num_of_epochs\n",
    "epoch_losses = [] # to plot the loss curve later\n",
    "\n",
    "for epoch in range(num_epochs):\n",
    "\n",
    "    model = model.train()\n",
    "\n",
    "    for batch_idx, (features, labels) in enumerate(train_loader):\n",
    "        optimizer.zero_grad()\n",
    "        logits = model(features)\n",
    "        loss = F.mse_loss(logits, labels) # Loss function\n",
    "        loss.backward()\n",
    "        optimizer.step()\n",
    "    \n",
    "    # logging + save the loss\n",
    "    print(f\"Epoch: {epoch+1:03d}/{num_epochs:03d}\" f\" | Batch {batch_idx:03d}/{len(train_loader):03d}\" f\" | Train/Val Loss: {loss:.2f}\")\n",
    "    epoch_losses.append(loss.item())\n",
    "\n",
    "\n",
    "# save model after training\n",
    "torch.save(model.state_dict(), './model.pth')"
   ]
  },
  {
   "cell_type": "code",
   "execution_count": null,
   "metadata": {},
   "outputs": [],
   "source": [
    "# training loss plot\n",
    "plt.plot(epoch_losses)\n",
    "plt.legend([\"Training Loss\"])\n",
    "plt.title(\"Training Loss vs. Number of Epoch\")\n",
    "plt.xlabel(\"Number of Epoch\")\n",
    "plt.ylabel(\"Training Loss\")"
   ]
  }
 ],
 "metadata": {
  "kernelspec": {
   "display_name": "871env",
   "language": "python",
   "name": "python3"
  },
  "language_info": {
   "codemirror_mode": {
    "name": "ipython",
    "version": 3
   },
   "file_extension": ".py",
   "mimetype": "text/x-python",
   "name": "python",
   "nbconvert_exporter": "python",
   "pygments_lexer": "ipython3",
   "version": "3.11.5"
  }
 },
 "nbformat": 4,
 "nbformat_minor": 2
}
